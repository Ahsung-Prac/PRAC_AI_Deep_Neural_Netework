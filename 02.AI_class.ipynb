{
 "cells": [
  {
   "cell_type": "code",
   "execution_count": 48,
   "metadata": {},
   "outputs": [
    {
     "name": "stdout",
     "output_type": "stream",
     "text": [
      "one-hot\n",
      "0.510825457099338\n",
      "0.6019862188296516\n",
      "\n",
      "label:\n",
      "0.510825457099338\n",
      "0.6019862188296516\n"
     ]
    }
   ],
   "source": [
    "# B511209 최아성\n",
    "\n",
    "import numpy as np\n",
    "\n",
    "y1 = np.array([0.1, 0.05, 0, 0.6, 0, 0.1, 0, 0.4, 0.05, 0])\n",
    "t1 = np.array([0, 0, 0, 1, 0, 0, 0, 0, 0, 0])\n",
    "t1_label = np.array([3])\n",
    "\n",
    "y2 = np.array([[0.1, 0.05, 0, 0.6, 0, 0.1, 0, 0.4, 0.05, 0], [0.1, 0.05, 0, 0.06, 0, 0.1, 0, 0.4, 0.5, 0]])\n",
    "t2 = np.array([[0, 0, 0, 1, 0, 0, 0, 0, 0, 0], [0, 0, 0, 0, 0, 0, 0, 0, 1, 0]])\n",
    "t2_label = np.array([3, 8])\n",
    "\n",
    "\n",
    "def cross_entropy_error(y, t):\n",
    "    epsilon = 1e-7\n",
    "\n",
    "    if y.ndim == 1:\n",
    "        y = y.reshape(1, y.size)\n",
    "        t = t.reshape(1, t.size)\n",
    "\n",
    "    batch_size = y.shape[0]\n",
    "\n",
    "    cee = -np.sum(t * np.log(y + epsilon)) / batch_size\n",
    "    return cee\n",
    "\n",
    "\n",
    "# one hot이 아니라 정답의 label일 경우.\n",
    "def cross_entropy_error_label(y, t):\n",
    "    epsilon = 1e-7\n",
    "\n",
    "    if y.ndim == 1:\n",
    "        y = y.reshape(1, y.size)\n",
    "        t = t.reshape(1, t.size)\n",
    "\n",
    "    batch_size = y.shape[0]\n",
    "\n",
    "    cee = -np.sum(np.log(y[np.arange(batch_size), t] + epsilon)) / batch_size\n",
    "    return cee\n",
    "\n",
    "\n",
    "def f1(x):\n",
    "    return 0.01*(x**2)+0.1*x\n",
    "\n",
    "\n",
    "def f2(x):\n",
    "    if x.ndim == 1:\n",
    "        return np.sum(x**2)\n",
    "    else:\n",
    "        return np.sum(x**2, axis=1)\n",
    "    \n",
    "    \n",
    "def numerical_difference(f,x):\n",
    "    h = 1e-4\n",
    "    return (f(x+h) - f(x-h)) / (2*h)\n",
    "\n",
    "print(\"one-hot\")\n",
    "print(cross_entropy_error(y1,t1))\n",
    "print(cross_entropy_error(y2,t2))\n",
    "print(\"\\nlabel:\")\n",
    "print(cross_entropy_error_label(y1,t1_label))\n",
    "print(cross_entropy_error_label(y2,t2_label))"
   ]
  },
  {
   "cell_type": "code",
   "execution_count": null,
   "metadata": {},
   "outputs": [],
   "source": []
  }
 ],
 "metadata": {
  "kernelspec": {
   "display_name": "tensorflow2.0",
   "language": "python",
   "name": "tensorflow2.0"
  },
  "language_info": {
   "codemirror_mode": {
    "name": "ipython",
    "version": 3
   },
   "file_extension": ".py",
   "mimetype": "text/x-python",
   "name": "python",
   "nbconvert_exporter": "python",
   "pygments_lexer": "ipython3",
   "version": "3.6.9"
  }
 },
 "nbformat": 4,
 "nbformat_minor": 2
}
