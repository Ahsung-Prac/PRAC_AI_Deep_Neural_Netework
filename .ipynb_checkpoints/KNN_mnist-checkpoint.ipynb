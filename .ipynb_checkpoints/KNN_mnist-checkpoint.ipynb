{
 "cells": [
  {
   "cell_type": "code",
   "execution_count": 2,
   "metadata": {},
   "outputs": [],
   "source": [
    "import sys, os\n",
    "sys.path.append(os.pardir)\n",
    "# 부모 디렉토리에서 import할 수 있도록 설정\n",
    "import numpy as np\n",
    "from dataset.mnist import load_mnist\n",
    "# mnist data load할 수 있는 함수 import\n",
    "from PIL import Image\n",
    "from knn import KNN\n",
    "import numpy as np"
   ]
  },
  {
   "cell_type": "code",
   "execution_count": 6,
   "metadata": {},
   "outputs": [
    {
     "name": "stdout",
     "output_type": "stream",
     "text": [
      "train data number:  60000\n",
      "test data number:  10000\n"
     ]
    }
   ],
   "source": [
    "# training data, test data\n",
    "# flatten: 이미지를 1차원 배열로 읽음\n",
    "# normalize(정규화): 0~1 실수로. 그렇지 않으면 0~255\n",
    "# 정구화한 값으로 get\n",
    "(x_train, t_train), (x_test, t_test) =load_mnist(flatten=True, normalize=True)\n",
    "label_name = np.array(['0','1','2','3','4','5','6','7','8','9'])\n",
    "print(\"train data number: \",t_train.shape[0])\n",
    "print(\"test data number: \",t_test.shape[0])"
   ]
  },
  {
   "cell_type": "code",
   "execution_count": 3,
   "metadata": {},
   "outputs": [
    {
     "name": "stdout",
     "output_type": "stream",
     "text": [
      "Input Demension (60000, 784)\n",
      "Output Demension (60000,)\n"
     ]
    }
   ],
   "source": [
    "knn_mnist = KNN(3,x_train,t_train,label_name)\n",
    "knn_mnist.show_dim()"
   ]
  },
  {
   "cell_type": "code",
   "execution_count": 4,
   "metadata": {},
   "outputs": [
    {
     "name": "stdout",
     "output_type": "stream",
     "text": [
      "10 번째  predict:  2   True class:  2 accuracy:100.0%\n",
      "20 번째  predict:  2   True class:  2 accuracy:100.0%\n",
      "30 번째  predict:  5   True class:  5 accuracy:100.0%\n",
      "40 번째  predict:  2   True class:  2 accuracy:97.5%\n",
      "50 번째  predict:  3   True class:  3 accuracy:98.0%\n",
      "60 번째  predict:  2   True class:  2 accuracy:98.33333333333333%\n",
      "70 번째  predict:  4   True class:  4 accuracy:98.57142857142858%\n",
      "80 번째  predict:  1   True class:  1 accuracy:97.5%\n",
      "90 번째  predict:  0   True class:  0 accuracy:97.77777777777777%\n",
      "100 번째  predict:  9   True class:  9 accuracy:98.0%\n",
      "\n",
      "결과 정확도: 98.0%\n"
     ]
    }
   ],
   "source": [
    "knn_mnist.set_weight_func( lambda d : 1/(d+0.001) )\n",
    "\n",
    "cnt = 0\n",
    "test_Num = 100\n",
    "tp = int(test_Num/10)\n",
    "sample = np.random.randint(0,t_test.shape[0],test_Num)\n",
    "\n",
    "for i in range(test_Num):\n",
    "    knn_mnist.get_nearest_k(x_test[sample[i]])\n",
    "    pre =  knn_mnist.weighted_majority_vote()\n",
    "    t = label_name[t_test[sample[i]]]\n",
    "    if pre == t: cnt +=1\n",
    "    if (i % tp) == (tp-1):    \n",
    "        print(i+1,\"번째  predict: \", pre,\"  True class: \",t, \"accuracy:{}%\".format(cnt/(i+1)*100))\n",
    "print()\n",
    "print(\"결과 정확도: {}%\".format(cnt/test_Num*100))"
   ]
  },
  {
   "cell_type": "code",
   "execution_count": 5,
   "metadata": {},
   "outputs": [
    {
     "name": "stdout",
     "output_type": "stream",
     "text": [
      "(60000, 56)\n",
      "(10000, 56)\n"
     ]
    }
   ],
   "source": [
    "# 각 이미지의 행의 총합과 열의 총합을 concatenate한 56개의 hand-crafted feature \n",
    "tmp_train_x1 = x_train.reshape(x_train.shape[0],28,28).sum(2)\n",
    "tmp_train_x2 = x_train.reshape(x_train.shape[0],28,28).sum(1)\n",
    "\n",
    "tmp_test_x1 = x_test.reshape(x_test.shape[0],28,28).sum(2)\n",
    "tmp_test_x2 = x_test.reshape(x_test.shape[0],28,28).sum(1)\n",
    "\n",
    "x_train_hand = np.append(tmp_train_x1,tmp_train_x2,axis = 1)\n",
    "x_test_hand = np.append(tmp_test_x1,tmp_test_x2,axis = 1)\n",
    "print(x_train_hand.shape)\n",
    "print(x_test_hand.shape)"
   ]
  },
  {
   "cell_type": "code",
   "execution_count": 6,
   "metadata": {},
   "outputs": [
    {
     "name": "stdout",
     "output_type": "stream",
     "text": [
      "Input Demension (60000, 56)\n",
      "Output Demension (60000,)\n"
     ]
    }
   ],
   "source": [
    "knn_mnist_hand = KNN(3,x_train_hand,t_train,label_name)\n",
    "knn_mnist_hand.show_dim()"
   ]
  },
  {
   "cell_type": "code",
   "execution_count": 7,
   "metadata": {},
   "outputs": [
    {
     "name": "stdout",
     "output_type": "stream",
     "text": [
      "100 번째  predict:  7   True class:  7 accuracy:90.0%\n",
      "200 번째  predict:  6   True class:  6 accuracy:89.5%\n",
      "300 번째  predict:  1   True class:  1 accuracy:88.66666666666667%\n",
      "400 번째  predict:  3   True class:  5 accuracy:87.5%\n",
      "500 번째  predict:  3   True class:  3 accuracy:87.6%\n",
      "600 번째  predict:  7   True class:  7 accuracy:87.83333333333333%\n",
      "700 번째  predict:  7   True class:  7 accuracy:88.14285714285714%\n",
      "800 번째  predict:  6   True class:  6 accuracy:88.625%\n",
      "900 번째  predict:  6   True class:  6 accuracy:89.11111111111111%\n",
      "1000 번째  predict:  4   True class:  4 accuracy:89.60000000000001%\n",
      "\n",
      "결과 정확도: 89.60000000000001%\n"
     ]
    }
   ],
   "source": [
    "knn_mnist_hand.set_weight_func( lambda d : 1/(d+0.01) )\n",
    "\n",
    "cnt = 0\n",
    "test_Num = 1000\n",
    "tp = int(test_Num/10)\n",
    "sample = np.random.randint(0,t_test.shape[0],test_Num)\n",
    "\n",
    "for i in range(test_Num):\n",
    "    knn_mnist_hand.get_nearest_k(x_test_hand[sample[i]])\n",
    "    pre =  knn_mnist_hand.weighted_majority_vote()\n",
    "    t = label_name[t_test[sample[i]]]\n",
    "    if pre == t: cnt +=1\n",
    "    if (i % tp) == (tp-1):    \n",
    "        print(i+1,\"번째  predict: \", pre,\"  True class: \",t, \"accuracy:{}%\".format(cnt/(i+1)*100))\n",
    "print()\n",
    "print(\"결과 정확도: {}%\".format(cnt/test_Num*100))"
   ]
  },
  {
   "cell_type": "code",
   "execution_count": 8,
   "metadata": {},
   "outputs": [
    {
     "name": "stdout",
     "output_type": "stream",
     "text": [
      "(60000, 196)\n",
      "(10000, 196)\n"
     ]
    }
   ],
   "source": [
    "# 28*28 이미지를 2*2 정사각형 196개로 나누어\n",
    "# 각 정사각형의 총합을 feature로하는 hand-craft feature\n",
    "\n",
    "tmp_train_x = x_train.reshape(x_train.shape[0],14,2,28).sum(2)\n",
    "tmp2_train_x = tmp_train_x.reshape(tmp_train_x.shape[0],14,14,2).sum(3)\n",
    "x_train_hand2 = tmp2_train_x.reshape(tmp_train_x.shape[0],-1)\n",
    "\n",
    "tmp_test_x = x_test.reshape(x_test.shape[0],14,2,28).sum(2)\n",
    "tmp2_test_x = tmp_test_x.reshape(tmp_test_x.shape[0],14,14,2).sum(3)\n",
    "x_test_hand2 = tmp2_test_x.reshape(tmp_test_x.shape[0],-1)\n",
    "\n",
    "print(x_train_hand2.shape)\n",
    "print(x_test_hand2.shape)"
   ]
  },
  {
   "cell_type": "code",
   "execution_count": 9,
   "metadata": {},
   "outputs": [
    {
     "name": "stdout",
     "output_type": "stream",
     "text": [
      "Input Demension (60000, 196)\n",
      "Output Demension (60000,)\n"
     ]
    }
   ],
   "source": [
    "knn_mnist_hand2 = KNN(3,x_train_hand2,t_train,label_name)\n",
    "knn_mnist_hand2.show_dim()"
   ]
  },
  {
   "cell_type": "code",
   "execution_count": 10,
   "metadata": {},
   "outputs": [
    {
     "name": "stdout",
     "output_type": "stream",
     "text": [
      "100 번째  predict:  6   True class:  6 accuracy:98.0%\n",
      "200 번째  predict:  2   True class:  2 accuracy:98.5%\n",
      "300 번째  predict:  2   True class:  2 accuracy:98.33333333333333%\n",
      "400 번째  predict:  4   True class:  4 accuracy:98.75%\n",
      "500 번째  predict:  2   True class:  2 accuracy:98.0%\n",
      "600 번째  predict:  7   True class:  7 accuracy:97.66666666666667%\n",
      "700 번째  predict:  6   True class:  6 accuracy:97.71428571428571%\n",
      "800 번째  predict:  8   True class:  8 accuracy:97.75%\n",
      "900 번째  predict:  9   True class:  9 accuracy:97.33333333333334%\n",
      "1000 번째  predict:  9   True class:  9 accuracy:97.39999999999999%\n",
      "\n",
      "결과 정확도: 97.39999999999999%\n"
     ]
    }
   ],
   "source": [
    "knn_mnist_hand2.set_weight_func( lambda d : 1/(d+0.01) )\n",
    "\n",
    "cnt = 0\n",
    "test_Num = 1000\n",
    "tp = int(test_Num/10)\n",
    "sample = np.random.randint(0,t_test.shape[0],test_Num)\n",
    "\n",
    "for i in range(test_Num):\n",
    "    knn_mnist_hand2.get_nearest_k(x_test_hand2[sample[i]])\n",
    "    pre =  knn_mnist_hand2.weighted_majority_vote()\n",
    "    t = label_name[t_test[sample[i]]]\n",
    "    if pre == t: cnt +=1\n",
    "    if (i % tp) == (tp-1):    \n",
    "        print(i+1,\"번째  predict: \", pre,\"  True class: \",t, \"accuracy:{}%\".format(cnt/(i+1)*100))\n",
    "print()\n",
    "print(\"결과 정확도: {}%\".format(cnt/test_Num*100))"
   ]
  },
  {
   "cell_type": "code",
   "execution_count": 11,
   "metadata": {},
   "outputs": [
    {
     "name": "stdout",
     "output_type": "stream",
     "text": [
      "(60000, 49)\n",
      "(10000, 49)\n"
     ]
    }
   ],
   "source": [
    "# 28*28 이미지를 4*4 정사각형 49개로 나누어\n",
    "# 각 정사각형의 총합을 feature로하는 hand-craft feature\n",
    "\n",
    "tmp_train_x = x_train.reshape(x_train.shape[0],7,4,28).sum(2)\n",
    "tmp2_train_x = tmp_train_x.reshape(tmp_train_x.shape[0],7,7,4).sum(3)\n",
    "x_train_hand3 = tmp2_train_x.reshape(tmp_train_x.shape[0],-1)\n",
    "\n",
    "tmp_test_x = x_test.reshape(x_test.shape[0],7,4,28).sum(2)\n",
    "tmp2_test_x = tmp_test_x.reshape(tmp_test_x.shape[0],7,7,4).sum(3)\n",
    "x_test_hand3 = tmp2_test_x.reshape(tmp_test_x.shape[0],-1)\n",
    "\n",
    "print(x_train_hand3.shape)\n",
    "print(x_test_hand3.shape)"
   ]
  },
  {
   "cell_type": "code",
   "execution_count": 12,
   "metadata": {},
   "outputs": [
    {
     "name": "stdout",
     "output_type": "stream",
     "text": [
      "Input Demension (60000, 49)\n",
      "Output Demension (60000,)\n"
     ]
    }
   ],
   "source": [
    "knn_mnist_hand3 = KNN(3,x_train_hand3,t_train,label_name)\n",
    "knn_mnist_hand3.show_dim()"
   ]
  },
  {
   "cell_type": "code",
   "execution_count": 14,
   "metadata": {},
   "outputs": [
    {
     "name": "stdout",
     "output_type": "stream",
     "text": [
      "1000 번째  predict:  9   True class:  4 accuracy:94.3%\n",
      "2000 번째  predict:  9   True class:  9 accuracy:94.6%\n",
      "3000 번째  predict:  5   True class:  5 accuracy:94.66666666666667%\n",
      "4000 번째  predict:  3   True class:  3 accuracy:94.975%\n",
      "5000 번째  predict:  8   True class:  8 accuracy:94.92%\n",
      "6000 번째  predict:  0   True class:  0 accuracy:94.98333333333333%\n",
      "7000 번째  predict:  0   True class:  0 accuracy:95.05714285714286%\n",
      "8000 번째  predict:  9   True class:  9 accuracy:95.1375%\n",
      "9000 번째  predict:  9   True class:  9 accuracy:95.24444444444444%\n",
      "10000 번째  predict:  1   True class:  1 accuracy:95.3%\n",
      "\n",
      "결과 정확도: 95.3%\n"
     ]
    }
   ],
   "source": [
    "knn_mnist_hand3.set_weight_func( lambda d : 1/(d+0.01) )\n",
    "\n",
    "cnt = 0\n",
    "test_Num = 10000\n",
    "tp = int(test_Num/10)\n",
    "sample = np.random.randint(0,t_test.shape[0],test_Num)\n",
    "\n",
    "for i in range(test_Num):\n",
    "    knn_mnist_hand3.get_nearest_k(x_test_hand3[sample[i]]) \n",
    "    pre =  knn_mnist_hand3.weighted_majority_vote()\n",
    "    t = label_name[t_test[sample[i]]]\n",
    "    if pre == t: cnt +=1\n",
    "    if (i % tp) == (tp-1):    \n",
    "        print(i+1,\"번째  predict: \", pre,\"  True class: \",t, \"accuracy:{}%\".format(cnt/(i+1)*100))\n",
    "print()\n",
    "print(\"결과 정확도: {}%\".format(cnt/test_Num*100))"
   ]
  },
  {
   "cell_type": "code",
   "execution_count": null,
   "metadata": {},
   "outputs": [],
   "source": []
  }
 ],
 "metadata": {
  "kernelspec": {
   "display_name": "tensorflow2.0",
   "language": "python",
   "name": "tensorflow2.0"
  },
  "language_info": {
   "codemirror_mode": {
    "name": "ipython",
    "version": 3
   },
   "file_extension": ".py",
   "mimetype": "text/x-python",
   "name": "python",
   "nbconvert_exporter": "python",
   "pygments_lexer": "ipython3",
   "version": "3.6.9"
  }
 },
 "nbformat": 4,
 "nbformat_minor": 2
}
