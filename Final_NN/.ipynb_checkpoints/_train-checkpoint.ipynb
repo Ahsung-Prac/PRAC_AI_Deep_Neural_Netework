{
 "cells": [
  {
   "cell_type": "code",
   "execution_count": 1,
   "metadata": {},
   "outputs": [],
   "source": [
    "# coding: utf-8\n",
    "# 2020/인공지능/final/학번/이름\n",
    "import sys, os\n",
    "import argparse\n",
    "import time\n",
    "import matplotlib.pyplot as plt\n",
    "sys.path.append(os.pardir)\n",
    "\n",
    "import numpy as np\n",
    "from AReM import *\n",
    "from model import *\n",
    "\n",
    "\n",
    "class Trainer:\n",
    "    \"\"\"\n",
    "    ex) 200개의 훈련데이터셋, 배치사이즈=5, 에폭=1000 일 경우 :\n",
    "    40개의 배치(배치당 5개 데이터)를 에폭 갯수 만큼 업데이트 하는것.=\n",
    "    (200 / 5) * 1000 = 40,000번 업데이트.\n",
    "\n",
    "    ----------\n",
    "    network : 네트워크\n",
    "    x_train : 트레인 데이터\n",
    "    t_train : 트레인 데이터에 대한 라벨\n",
    "    x_test : 발리데이션 데이터\n",
    "    t_test : 발리데이션 데이터에 대한 라벨\n",
    "    epochs : 에폭 수\n",
    "    mini_batch_size : 미니배치 사이즈\n",
    "    learning_rate : 학습률\n",
    "    verbose : 출력여부\n",
    "\n",
    "    ----------\n",
    "    \"\"\"\n",
    "    def __init__(self, network, x_train, t_train, x_test, t_test,\n",
    "                 epochs=20, mini_batch_size=100,\n",
    "                 learning_rate=0.01, verbose=True):\n",
    "        self.network = network\n",
    "        self.x_train = x_train\n",
    "        self.t_train = t_train\n",
    "        self.x_test = x_test\n",
    "        self.t_test = t_test\n",
    "        self.epochs = int(epochs)\n",
    "        self.batch_size = int(mini_batch_size)\n",
    "        self.lr = learning_rate\n",
    "        self.verbose = verbose\n",
    "        self.train_size = x_train.shape[0]\n",
    "        self.iter_per_epoch = int(max(self.train_size / self.batch_size, 1))\n",
    "        self.max_iter = int(self.epochs * self.iter_per_epoch)\n",
    "        self.current_iter = 0\n",
    "        self.current_epoch = 0\n",
    "\n",
    "        self.train_loss_list = []\n",
    "        self.train_acc_list = []\n",
    "        self.test_acc_list = []\n",
    "    \n",
    "        self.max_acc = 0\n",
    "\n",
    "    def train_step(self):\n",
    "        # 렌덤 트레인 배치 생성\n",
    "        batch_mask = np.random.choice(self.train_size, self.batch_size)\n",
    "        x_batch = self.x_train[batch_mask]\n",
    "        t_batch = self.t_train[batch_mask]\n",
    "\n",
    "        # 네트워크 업데이트\n",
    "        self.network.update(x_batch, t_batch)\n",
    "        loss = self.network.loss(x_batch, t_batch)\n",
    "        self.train_loss_list.append(loss)\n",
    "\n",
    "        if self.current_iter % self.iter_per_epoch == 0:\n",
    "            self.current_epoch += 1\n",
    "\n",
    "            train_acc, _ = self.accuracy(self.x_train, self.t_train)\n",
    "            test_acc, _ = self.accuracy(self.x_test, self.t_test)\n",
    "            self.train_acc_list.append(train_acc)\n",
    "            self.test_acc_list.append(test_acc)\n",
    "            \n",
    "            if self.max_acc < test_acc:\n",
    "                self.max_acc = test_acc\n",
    "                self.max_params = {}\n",
    "                for key, value in self.network.params.items():\n",
    "                    self.max_params[key] = value.copy()\n",
    "            \n",
    "            if self.verbose: print(\n",
    "                \"=== epoch:\", str(round(self.current_epoch, 3)), \", iteration:\", str(round(self.current_iter, 3)),\n",
    "                \", train acc:\" + str(round(train_acc, 3)), \", test acc:\" + str(round(test_acc, 3)), \", train loss:\" + str(round(loss, 3)) + \" ===\")\n",
    "        self.current_iter += 1\n",
    "\n",
    "    def train(self):\n",
    "        #학습 시작전  정확도 loss\n",
    "        loss = self.network.loss(self.x_train, self.t_train)\n",
    "        self.train_loss_list.append(loss)\n",
    "        train_acc, _ = self.accuracy(self.x_train, self.t_train)\n",
    "        test_acc, _ = self.accuracy(self.x_test, self.t_test)\n",
    "        self.train_acc_list.append(train_acc)\n",
    "        self.test_acc_list.append(test_acc)\n",
    "        \n",
    "        for i in range(self.max_iter):\n",
    "            self.train_step()\n",
    "\n",
    "        test_acc, inference_time = self.accuracy(self.x_test, self.t_test)\n",
    "\n",
    "        if self.verbose:\n",
    "            print(\"=============== Final Test Accuracy ===============\")\n",
    "            print(\"test acc:\" + str(test_acc) + \", inference_time:\" + str(inference_time))\n",
    "\n",
    "    def accuracy(self, x, t):\n",
    "        if t.ndim != 1: t = np.argmax(t, axis=1)\n",
    "\n",
    "        acc = 0.0\n",
    "        start_time = time.time()\n",
    "\n",
    "#         for i in range(int(x.shape[0] / self.batch_size)):\n",
    "#             tx = x[i * self.batch_size:(i + 1) * self.batch_size]\n",
    "#             tt = t[i * self.batch_size:(i + 1) * self.batch_size]\n",
    "\n",
    "#             y = self.network.predict(tx)\n",
    "#             y = np.argmax(y, axis=1)\n",
    "#             acc += np.sum(y == tt)\n",
    "        \n",
    "        y = self.network.predict(x)\n",
    "        y = np.argmax(y,axis=1)\n",
    "        acc += np.sum(y==t)\n",
    "        \n",
    "        \n",
    "        inference_time = (time.time() - start_time) / x.shape[0]\n",
    "\n",
    "        return acc / x.shape[0], inference_time\n"
   ]
  },
  {
   "cell_type": "code",
   "execution_count": 9,
   "metadata": {},
   "outputs": [],
   "source": [
    "\n",
    "args = {\n",
    "    \"bs\": 800,\n",
    "    \"epoch\": 200,\n",
    "    \"sf\" : \"params.pkl\",\n",
    "    \"lr\" : 0.3\n",
    "     }\n",
    "\n",
    "# 데이터셋 탑재\n",
    "(x_train, t_train), (x_test, t_test) = load_AReM(one_hot_label=False)\n",
    "#(x_train, t_train), (x_test, t_test) = load_AReM(one_hot_label=False,standardze=True)\n",
    "\n",
    "# x_t = np.concatenate((x_train,x_test))\n",
    "# t_t = np.concatenate((t_train,t_test))\n"
   ]
  },
  {
   "cell_type": "code",
   "execution_count": 10,
   "metadata": {},
   "outputs": [
    {
     "name": "stdout",
     "output_type": "stream",
     "text": [
      "[56.25 17.24 35.   11.42 39.   11.09]\n",
      "[0. 0. 0. 0. 0. 0.]\n",
      "[38.99815725  1.47474077 14.33255478  1.52033287 15.97623468  1.64322051]\n",
      "[6.31303496 2.05340679 5.4094779  1.64276685 6.75185464 1.64559124]\n"
     ]
    }
   ],
   "source": [
    "print(x_train.max(axis=0))\n",
    "print(x_train.min(axis=0))\n",
    "print(x_train.mean(axis=0))\n",
    "print(x_train.std(axis=0))"
   ]
  },
  {
   "cell_type": "code",
   "execution_count": 4,
   "metadata": {},
   "outputs": [],
   "source": [
    "# x_train = nomalize(x_train)\n",
    "# x_test = nomalize(x_test)"
   ]
  },
  {
   "cell_type": "code",
   "execution_count": 5,
   "metadata": {
    "scrolled": true
   },
   "outputs": [
    {
     "name": "stdout",
     "output_type": "stream",
     "text": [
      "=== epoch: 1 , iteration: 0 , train acc:0.3 , test acc:0.302 , train loss:1.627 ===\n",
      "=== epoch: 2 , iteration: 41 , train acc:0.699 , test acc:0.702 , train loss:0.671 ===\n",
      "=== epoch: 3 , iteration: 82 , train acc:0.723 , test acc:0.713 , train loss:0.618 ===\n",
      "=== epoch: 4 , iteration: 123 , train acc:0.731 , test acc:0.723 , train loss:0.681 ===\n",
      "=== epoch: 5 , iteration: 164 , train acc:0.739 , test acc:0.735 , train loss:0.597 ===\n",
      "=== epoch: 6 , iteration: 205 , train acc:0.742 , test acc:0.74 , train loss:0.537 ===\n",
      "=== epoch: 7 , iteration: 246 , train acc:0.747 , test acc:0.746 , train loss:0.58 ===\n",
      "=== epoch: 8 , iteration: 287 , train acc:0.753 , test acc:0.751 , train loss:0.49 ===\n",
      "=== epoch: 9 , iteration: 328 , train acc:0.762 , test acc:0.76 , train loss:0.507 ===\n",
      "=== epoch: 10 , iteration: 369 , train acc:0.766 , test acc:0.76 , train loss:0.547 ===\n",
      "=== epoch: 11 , iteration: 410 , train acc:0.765 , test acc:0.761 , train loss:0.512 ===\n",
      "=== epoch: 12 , iteration: 451 , train acc:0.767 , test acc:0.762 , train loss:0.474 ===\n",
      "=== epoch: 13 , iteration: 492 , train acc:0.77 , test acc:0.77 , train loss:0.514 ===\n",
      "=== epoch: 14 , iteration: 533 , train acc:0.771 , test acc:0.766 , train loss:0.484 ===\n",
      "=== epoch: 15 , iteration: 574 , train acc:0.777 , test acc:0.778 , train loss:0.494 ===\n",
      "=== epoch: 16 , iteration: 615 , train acc:0.774 , test acc:0.77 , train loss:0.522 ===\n",
      "=== epoch: 17 , iteration: 656 , train acc:0.776 , test acc:0.777 , train loss:0.508 ===\n",
      "=== epoch: 18 , iteration: 697 , train acc:0.78 , test acc:0.777 , train loss:0.518 ===\n",
      "=== epoch: 19 , iteration: 738 , train acc:0.778 , test acc:0.773 , train loss:0.563 ===\n",
      "=== epoch: 20 , iteration: 779 , train acc:0.783 , test acc:0.781 , train loss:0.507 ===\n",
      "=== epoch: 21 , iteration: 820 , train acc:0.768 , test acc:0.761 , train loss:0.507 ===\n",
      "=== epoch: 22 , iteration: 861 , train acc:0.782 , test acc:0.777 , train loss:0.499 ===\n",
      "=== epoch: 23 , iteration: 902 , train acc:0.779 , test acc:0.772 , train loss:0.511 ===\n",
      "=== epoch: 24 , iteration: 943 , train acc:0.786 , test acc:0.778 , train loss:0.515 ===\n",
      "=== epoch: 25 , iteration: 984 , train acc:0.783 , test acc:0.778 , train loss:0.502 ===\n",
      "=== epoch: 26 , iteration: 1025 , train acc:0.787 , test acc:0.786 , train loss:0.474 ===\n",
      "=== epoch: 27 , iteration: 1066 , train acc:0.786 , test acc:0.782 , train loss:0.441 ===\n",
      "=== epoch: 28 , iteration: 1107 , train acc:0.788 , test acc:0.784 , train loss:0.476 ===\n",
      "=== epoch: 29 , iteration: 1148 , train acc:0.788 , test acc:0.786 , train loss:0.497 ===\n",
      "=== epoch: 30 , iteration: 1189 , train acc:0.787 , test acc:0.781 , train loss:0.468 ===\n",
      "=== epoch: 31 , iteration: 1230 , train acc:0.79 , test acc:0.785 , train loss:0.487 ===\n",
      "=== epoch: 32 , iteration: 1271 , train acc:0.785 , test acc:0.779 , train loss:0.49 ===\n",
      "=== epoch: 33 , iteration: 1312 , train acc:0.793 , test acc:0.788 , train loss:0.477 ===\n",
      "=== epoch: 34 , iteration: 1353 , train acc:0.791 , test acc:0.787 , train loss:0.478 ===\n",
      "=== epoch: 35 , iteration: 1394 , train acc:0.797 , test acc:0.791 , train loss:0.5 ===\n",
      "=== epoch: 36 , iteration: 1435 , train acc:0.786 , test acc:0.786 , train loss:0.489 ===\n",
      "=== epoch: 37 , iteration: 1476 , train acc:0.796 , test acc:0.79 , train loss:0.506 ===\n",
      "=== epoch: 38 , iteration: 1517 , train acc:0.791 , test acc:0.79 , train loss:0.468 ===\n",
      "=== epoch: 39 , iteration: 1558 , train acc:0.799 , test acc:0.796 , train loss:0.459 ===\n",
      "=== epoch: 40 , iteration: 1599 , train acc:0.796 , test acc:0.794 , train loss:0.455 ===\n",
      "=== epoch: 41 , iteration: 1640 , train acc:0.795 , test acc:0.796 , train loss:0.502 ===\n",
      "=== epoch: 42 , iteration: 1681 , train acc:0.794 , test acc:0.787 , train loss:0.47 ===\n",
      "=== epoch: 43 , iteration: 1722 , train acc:0.8 , test acc:0.788 , train loss:0.457 ===\n",
      "=== epoch: 44 , iteration: 1763 , train acc:0.795 , test acc:0.789 , train loss:0.448 ===\n",
      "=== epoch: 45 , iteration: 1804 , train acc:0.801 , test acc:0.797 , train loss:0.49 ===\n",
      "=== epoch: 46 , iteration: 1845 , train acc:0.799 , test acc:0.796 , train loss:0.462 ===\n",
      "=== epoch: 47 , iteration: 1886 , train acc:0.802 , test acc:0.796 , train loss:0.456 ===\n",
      "=== epoch: 48 , iteration: 1927 , train acc:0.799 , test acc:0.796 , train loss:0.476 ===\n",
      "=== epoch: 49 , iteration: 1968 , train acc:0.795 , test acc:0.789 , train loss:0.474 ===\n",
      "=== epoch: 50 , iteration: 2009 , train acc:0.802 , test acc:0.797 , train loss:0.432 ===\n",
      "=== epoch: 51 , iteration: 2050 , train acc:0.797 , test acc:0.79 , train loss:0.454 ===\n",
      "=== epoch: 52 , iteration: 2091 , train acc:0.802 , test acc:0.793 , train loss:0.455 ===\n",
      "=== epoch: 53 , iteration: 2132 , train acc:0.8 , test acc:0.796 , train loss:0.477 ===\n",
      "=== epoch: 54 , iteration: 2173 , train acc:0.802 , test acc:0.795 , train loss:0.463 ===\n",
      "=== epoch: 55 , iteration: 2214 , train acc:0.805 , test acc:0.8 , train loss:0.463 ===\n",
      "=== epoch: 56 , iteration: 2255 , train acc:0.798 , test acc:0.795 , train loss:0.468 ===\n",
      "=== epoch: 57 , iteration: 2296 , train acc:0.801 , test acc:0.795 , train loss:0.449 ===\n",
      "=== epoch: 58 , iteration: 2337 , train acc:0.794 , test acc:0.789 , train loss:0.492 ===\n",
      "=== epoch: 59 , iteration: 2378 , train acc:0.806 , test acc:0.798 , train loss:0.474 ===\n",
      "=== epoch: 60 , iteration: 2419 , train acc:0.799 , test acc:0.789 , train loss:0.435 ===\n",
      "=== epoch: 61 , iteration: 2460 , train acc:0.806 , test acc:0.801 , train loss:0.428 ===\n",
      "=== epoch: 62 , iteration: 2501 , train acc:0.806 , test acc:0.803 , train loss:0.4 ===\n",
      "=== epoch: 63 , iteration: 2542 , train acc:0.804 , test acc:0.798 , train loss:0.418 ===\n",
      "=== epoch: 64 , iteration: 2583 , train acc:0.806 , test acc:0.798 , train loss:0.414 ===\n",
      "=== epoch: 65 , iteration: 2624 , train acc:0.809 , test acc:0.805 , train loss:0.403 ===\n",
      "=== epoch: 66 , iteration: 2665 , train acc:0.808 , test acc:0.802 , train loss:0.438 ===\n",
      "=== epoch: 67 , iteration: 2706 , train acc:0.809 , test acc:0.804 , train loss:0.428 ===\n",
      "=== epoch: 68 , iteration: 2747 , train acc:0.808 , test acc:0.803 , train loss:0.401 ===\n",
      "=== epoch: 69 , iteration: 2788 , train acc:0.804 , test acc:0.8 , train loss:0.418 ===\n",
      "=== epoch: 70 , iteration: 2829 , train acc:0.81 , test acc:0.803 , train loss:0.415 ===\n",
      "=== epoch: 71 , iteration: 2870 , train acc:0.804 , test acc:0.797 , train loss:0.437 ===\n",
      "=== epoch: 72 , iteration: 2911 , train acc:0.811 , test acc:0.806 , train loss:0.452 ===\n",
      "=== epoch: 73 , iteration: 2952 , train acc:0.81 , test acc:0.805 , train loss:0.409 ===\n",
      "=== epoch: 74 , iteration: 2993 , train acc:0.805 , test acc:0.799 , train loss:0.437 ===\n",
      "=== epoch: 75 , iteration: 3034 , train acc:0.808 , test acc:0.803 , train loss:0.408 ===\n",
      "=== epoch: 76 , iteration: 3075 , train acc:0.808 , test acc:0.805 , train loss:0.447 ===\n",
      "=== epoch: 77 , iteration: 3116 , train acc:0.81 , test acc:0.806 , train loss:0.412 ===\n",
      "=== epoch: 78 , iteration: 3157 , train acc:0.808 , test acc:0.803 , train loss:0.433 ===\n",
      "=== epoch: 79 , iteration: 3198 , train acc:0.805 , test acc:0.798 , train loss:0.438 ===\n",
      "=== epoch: 80 , iteration: 3239 , train acc:0.807 , test acc:0.798 , train loss:0.427 ===\n",
      "=== epoch: 81 , iteration: 3280 , train acc:0.807 , test acc:0.801 , train loss:0.39 ===\n",
      "=== epoch: 82 , iteration: 3321 , train acc:0.81 , test acc:0.806 , train loss:0.44 ===\n",
      "=== epoch: 83 , iteration: 3362 , train acc:0.807 , test acc:0.799 , train loss:0.463 ===\n",
      "=== epoch: 84 , iteration: 3403 , train acc:0.811 , test acc:0.805 , train loss:0.388 ===\n",
      "=== epoch: 85 , iteration: 3444 , train acc:0.811 , test acc:0.806 , train loss:0.442 ===\n",
      "=== epoch: 86 , iteration: 3485 , train acc:0.809 , test acc:0.806 , train loss:0.425 ===\n",
      "=== epoch: 87 , iteration: 3526 , train acc:0.812 , test acc:0.807 , train loss:0.397 ===\n",
      "=== epoch: 88 , iteration: 3567 , train acc:0.811 , test acc:0.806 , train loss:0.393 ===\n",
      "=== epoch: 89 , iteration: 3608 , train acc:0.814 , test acc:0.806 , train loss:0.406 ===\n",
      "=== epoch: 90 , iteration: 3649 , train acc:0.814 , test acc:0.804 , train loss:0.425 ===\n",
      "=== epoch: 91 , iteration: 3690 , train acc:0.812 , test acc:0.802 , train loss:0.422 ===\n",
      "=== epoch: 92 , iteration: 3731 , train acc:0.815 , test acc:0.807 , train loss:0.374 ===\n"
     ]
    },
    {
     "name": "stdout",
     "output_type": "stream",
     "text": [
      "=== epoch: 93 , iteration: 3772 , train acc:0.816 , test acc:0.811 , train loss:0.441 ===\n",
      "=== epoch: 94 , iteration: 3813 , train acc:0.816 , test acc:0.812 , train loss:0.406 ===\n",
      "=== epoch: 95 , iteration: 3854 , train acc:0.812 , test acc:0.81 , train loss:0.439 ===\n",
      "=== epoch: 96 , iteration: 3895 , train acc:0.816 , test acc:0.81 , train loss:0.434 ===\n",
      "=== epoch: 97 , iteration: 3936 , train acc:0.812 , test acc:0.809 , train loss:0.38 ===\n",
      "=== epoch: 98 , iteration: 3977 , train acc:0.81 , test acc:0.805 , train loss:0.414 ===\n",
      "=== epoch: 99 , iteration: 4018 , train acc:0.815 , test acc:0.807 , train loss:0.435 ===\n",
      "=== epoch: 100 , iteration: 4059 , train acc:0.807 , test acc:0.799 , train loss:0.435 ===\n",
      "=== epoch: 101 , iteration: 4100 , train acc:0.813 , test acc:0.811 , train loss:0.382 ===\n",
      "=== epoch: 102 , iteration: 4141 , train acc:0.816 , test acc:0.81 , train loss:0.385 ===\n",
      "=== epoch: 103 , iteration: 4182 , train acc:0.814 , test acc:0.812 , train loss:0.437 ===\n",
      "=== epoch: 104 , iteration: 4223 , train acc:0.816 , test acc:0.811 , train loss:0.414 ===\n",
      "=== epoch: 105 , iteration: 4264 , train acc:0.809 , test acc:0.807 , train loss:0.428 ===\n",
      "=== epoch: 106 , iteration: 4305 , train acc:0.814 , test acc:0.811 , train loss:0.433 ===\n",
      "=== epoch: 107 , iteration: 4346 , train acc:0.812 , test acc:0.806 , train loss:0.375 ===\n",
      "=== epoch: 108 , iteration: 4387 , train acc:0.817 , test acc:0.813 , train loss:0.427 ===\n",
      "=== epoch: 109 , iteration: 4428 , train acc:0.81 , test acc:0.802 , train loss:0.413 ===\n",
      "=== epoch: 110 , iteration: 4469 , train acc:0.817 , test acc:0.811 , train loss:0.439 ===\n",
      "=== epoch: 111 , iteration: 4510 , train acc:0.816 , test acc:0.811 , train loss:0.344 ===\n",
      "=== epoch: 112 , iteration: 4551 , train acc:0.815 , test acc:0.809 , train loss:0.407 ===\n",
      "=== epoch: 113 , iteration: 4592 , train acc:0.816 , test acc:0.813 , train loss:0.419 ===\n",
      "=== epoch: 114 , iteration: 4633 , train acc:0.818 , test acc:0.814 , train loss:0.412 ===\n",
      "=== epoch: 115 , iteration: 4674 , train acc:0.817 , test acc:0.811 , train loss:0.41 ===\n",
      "=== epoch: 116 , iteration: 4715 , train acc:0.811 , test acc:0.804 , train loss:0.424 ===\n",
      "=== epoch: 117 , iteration: 4756 , train acc:0.814 , test acc:0.812 , train loss:0.437 ===\n",
      "=== epoch: 118 , iteration: 4797 , train acc:0.814 , test acc:0.811 , train loss:0.392 ===\n",
      "=== epoch: 119 , iteration: 4838 , train acc:0.817 , test acc:0.815 , train loss:0.408 ===\n",
      "=== epoch: 120 , iteration: 4879 , train acc:0.82 , test acc:0.813 , train loss:0.429 ===\n",
      "=== epoch: 121 , iteration: 4920 , train acc:0.817 , test acc:0.81 , train loss:0.453 ===\n",
      "=== epoch: 122 , iteration: 4961 , train acc:0.813 , test acc:0.808 , train loss:0.448 ===\n",
      "=== epoch: 123 , iteration: 5002 , train acc:0.817 , test acc:0.812 , train loss:0.4 ===\n",
      "=== epoch: 124 , iteration: 5043 , train acc:0.817 , test acc:0.811 , train loss:0.425 ===\n",
      "=== epoch: 125 , iteration: 5084 , train acc:0.82 , test acc:0.817 , train loss:0.423 ===\n",
      "=== epoch: 126 , iteration: 5125 , train acc:0.818 , test acc:0.815 , train loss:0.42 ===\n",
      "=== epoch: 127 , iteration: 5166 , train acc:0.814 , test acc:0.81 , train loss:0.393 ===\n",
      "=== epoch: 128 , iteration: 5207 , train acc:0.812 , test acc:0.806 , train loss:0.434 ===\n",
      "=== epoch: 129 , iteration: 5248 , train acc:0.817 , test acc:0.812 , train loss:0.402 ===\n",
      "=== epoch: 130 , iteration: 5289 , train acc:0.817 , test acc:0.818 , train loss:0.389 ===\n",
      "=== epoch: 131 , iteration: 5330 , train acc:0.815 , test acc:0.807 , train loss:0.423 ===\n",
      "=== epoch: 132 , iteration: 5371 , train acc:0.819 , test acc:0.816 , train loss:0.407 ===\n",
      "=== epoch: 133 , iteration: 5412 , train acc:0.82 , test acc:0.816 , train loss:0.428 ===\n",
      "=== epoch: 134 , iteration: 5453 , train acc:0.817 , test acc:0.814 , train loss:0.411 ===\n",
      "=== epoch: 135 , iteration: 5494 , train acc:0.821 , test acc:0.816 , train loss:0.379 ===\n",
      "=== epoch: 136 , iteration: 5535 , train acc:0.82 , test acc:0.816 , train loss:0.38 ===\n",
      "=== epoch: 137 , iteration: 5576 , train acc:0.819 , test acc:0.814 , train loss:0.399 ===\n",
      "=== epoch: 138 , iteration: 5617 , train acc:0.82 , test acc:0.814 , train loss:0.408 ===\n",
      "=== epoch: 139 , iteration: 5658 , train acc:0.818 , test acc:0.806 , train loss:0.447 ===\n",
      "=== epoch: 140 , iteration: 5699 , train acc:0.821 , test acc:0.815 , train loss:0.432 ===\n",
      "=== epoch: 141 , iteration: 5740 , train acc:0.818 , test acc:0.81 , train loss:0.416 ===\n",
      "=== epoch: 142 , iteration: 5781 , train acc:0.819 , test acc:0.812 , train loss:0.379 ===\n",
      "=== epoch: 143 , iteration: 5822 , train acc:0.819 , test acc:0.813 , train loss:0.434 ===\n",
      "=== epoch: 144 , iteration: 5863 , train acc:0.822 , test acc:0.815 , train loss:0.381 ===\n",
      "=== epoch: 145 , iteration: 5904 , train acc:0.82 , test acc:0.812 , train loss:0.395 ===\n",
      "=== epoch: 146 , iteration: 5945 , train acc:0.819 , test acc:0.813 , train loss:0.415 ===\n",
      "=== epoch: 147 , iteration: 5986 , train acc:0.816 , test acc:0.812 , train loss:0.458 ===\n",
      "=== epoch: 148 , iteration: 6027 , train acc:0.817 , test acc:0.81 , train loss:0.397 ===\n",
      "=== epoch: 149 , iteration: 6068 , train acc:0.821 , test acc:0.817 , train loss:0.401 ===\n",
      "=== epoch: 150 , iteration: 6109 , train acc:0.82 , test acc:0.815 , train loss:0.389 ===\n",
      "=== epoch: 151 , iteration: 6150 , train acc:0.815 , test acc:0.811 , train loss:0.387 ===\n",
      "=== epoch: 152 , iteration: 6191 , train acc:0.823 , test acc:0.817 , train loss:0.418 ===\n",
      "=== epoch: 153 , iteration: 6232 , train acc:0.819 , test acc:0.814 , train loss:0.41 ===\n",
      "=== epoch: 154 , iteration: 6273 , train acc:0.821 , test acc:0.815 , train loss:0.425 ===\n",
      "=== epoch: 155 , iteration: 6314 , train acc:0.821 , test acc:0.817 , train loss:0.428 ===\n",
      "=== epoch: 156 , iteration: 6355 , train acc:0.813 , test acc:0.804 , train loss:0.45 ===\n",
      "=== epoch: 157 , iteration: 6396 , train acc:0.821 , test acc:0.817 , train loss:0.405 ===\n",
      "=== epoch: 158 , iteration: 6437 , train acc:0.817 , test acc:0.815 , train loss:0.407 ===\n",
      "=== epoch: 159 , iteration: 6478 , train acc:0.819 , test acc:0.812 , train loss:0.414 ===\n",
      "=== epoch: 160 , iteration: 6519 , train acc:0.821 , test acc:0.815 , train loss:0.39 ===\n",
      "=== epoch: 161 , iteration: 6560 , train acc:0.82 , test acc:0.815 , train loss:0.396 ===\n",
      "=== epoch: 162 , iteration: 6601 , train acc:0.825 , test acc:0.822 , train loss:0.396 ===\n",
      "=== epoch: 163 , iteration: 6642 , train acc:0.822 , test acc:0.815 , train loss:0.393 ===\n",
      "=== epoch: 164 , iteration: 6683 , train acc:0.824 , test acc:0.818 , train loss:0.42 ===\n",
      "=== epoch: 165 , iteration: 6724 , train acc:0.82 , test acc:0.812 , train loss:0.381 ===\n",
      "=== epoch: 166 , iteration: 6765 , train acc:0.823 , test acc:0.816 , train loss:0.416 ===\n",
      "=== epoch: 167 , iteration: 6806 , train acc:0.822 , test acc:0.818 , train loss:0.354 ===\n",
      "=== epoch: 168 , iteration: 6847 , train acc:0.823 , test acc:0.815 , train loss:0.394 ===\n",
      "=== epoch: 169 , iteration: 6888 , train acc:0.822 , test acc:0.819 , train loss:0.379 ===\n",
      "=== epoch: 170 , iteration: 6929 , train acc:0.823 , test acc:0.815 , train loss:0.412 ===\n",
      "=== epoch: 171 , iteration: 6970 , train acc:0.825 , test acc:0.818 , train loss:0.426 ===\n",
      "=== epoch: 172 , iteration: 7011 , train acc:0.821 , test acc:0.814 , train loss:0.368 ===\n",
      "=== epoch: 173 , iteration: 7052 , train acc:0.822 , test acc:0.815 , train loss:0.425 ===\n",
      "=== epoch: 174 , iteration: 7093 , train acc:0.825 , test acc:0.823 , train loss:0.413 ===\n",
      "=== epoch: 175 , iteration: 7134 , train acc:0.821 , test acc:0.819 , train loss:0.377 ===\n",
      "=== epoch: 176 , iteration: 7175 , train acc:0.825 , test acc:0.823 , train loss:0.408 ===\n",
      "=== epoch: 177 , iteration: 7216 , train acc:0.816 , test acc:0.811 , train loss:0.39 ===\n",
      "=== epoch: 178 , iteration: 7257 , train acc:0.825 , test acc:0.816 , train loss:0.406 ===\n",
      "=== epoch: 179 , iteration: 7298 , train acc:0.821 , test acc:0.819 , train loss:0.403 ===\n",
      "=== epoch: 180 , iteration: 7339 , train acc:0.825 , test acc:0.819 , train loss:0.414 ===\n",
      "=== epoch: 181 , iteration: 7380 , train acc:0.826 , test acc:0.818 , train loss:0.422 ===\n",
      "=== epoch: 182 , iteration: 7421 , train acc:0.819 , test acc:0.816 , train loss:0.39 ===\n",
      "=== epoch: 183 , iteration: 7462 , train acc:0.824 , test acc:0.818 , train loss:0.365 ===\n"
     ]
    },
    {
     "name": "stdout",
     "output_type": "stream",
     "text": [
      "=== epoch: 184 , iteration: 7503 , train acc:0.822 , test acc:0.817 , train loss:0.43 ===\n",
      "=== epoch: 185 , iteration: 7544 , train acc:0.825 , test acc:0.824 , train loss:0.389 ===\n",
      "=== epoch: 186 , iteration: 7585 , train acc:0.825 , test acc:0.821 , train loss:0.373 ===\n",
      "=== epoch: 187 , iteration: 7626 , train acc:0.821 , test acc:0.817 , train loss:0.374 ===\n",
      "=== epoch: 188 , iteration: 7667 , train acc:0.824 , test acc:0.818 , train loss:0.38 ===\n",
      "=== epoch: 189 , iteration: 7708 , train acc:0.823 , test acc:0.821 , train loss:0.385 ===\n",
      "=== epoch: 190 , iteration: 7749 , train acc:0.827 , test acc:0.823 , train loss:0.38 ===\n",
      "=== epoch: 191 , iteration: 7790 , train acc:0.821 , test acc:0.815 , train loss:0.405 ===\n",
      "=== epoch: 192 , iteration: 7831 , train acc:0.821 , test acc:0.814 , train loss:0.468 ===\n",
      "=== epoch: 193 , iteration: 7872 , train acc:0.827 , test acc:0.822 , train loss:0.372 ===\n",
      "=== epoch: 194 , iteration: 7913 , train acc:0.823 , test acc:0.819 , train loss:0.366 ===\n",
      "=== epoch: 195 , iteration: 7954 , train acc:0.823 , test acc:0.819 , train loss:0.352 ===\n",
      "=== epoch: 196 , iteration: 7995 , train acc:0.823 , test acc:0.815 , train loss:0.374 ===\n",
      "=== epoch: 197 , iteration: 8036 , train acc:0.828 , test acc:0.823 , train loss:0.41 ===\n",
      "=== epoch: 198 , iteration: 8077 , train acc:0.82 , test acc:0.814 , train loss:0.394 ===\n",
      "=== epoch: 199 , iteration: 8118 , train acc:0.825 , test acc:0.819 , train loss:0.368 ===\n",
      "=== epoch: 200 , iteration: 8159 , train acc:0.824 , test acc:0.817 , train loss:0.396 ===\n",
      "=============== Final Test Accuracy ===============\n",
      "test acc:0.8175068854029458, inference_time:1.6350986543293842e-06\n",
      "Network params Saved \n"
     ]
    }
   ],
   "source": [
    "network = Model()\n",
    "\n",
    "# 트레이너 초기화\n",
    "trainer = Trainer(network, x_train, t_train, x_test, t_test,\n",
    "                  epochs=args['epoch'], mini_batch_size=args['bs'],\n",
    "                  learning_rate=args['lr'], verbose=True)\n",
    "\n",
    "# 트레이너를 사용해 모델 학습\n",
    "trainer.train()\n",
    "\n",
    "#파라미터 보관\n",
    "network.save_params(args['sf'])\n",
    "print(\"Network params Saved \")\n"
   ]
  },
  {
   "cell_type": "code",
   "execution_count": 6,
   "metadata": {},
   "outputs": [],
   "source": [
    "temparams = trainer.network.params"
   ]
  },
  {
   "cell_type": "code",
   "execution_count": 7,
   "metadata": {},
   "outputs": [
    {
     "data": {
      "text/plain": [
       "(0.8236139384504849, 3.6281249492043664e-06)"
      ]
     },
     "execution_count": 7,
     "metadata": {},
     "output_type": "execute_result"
    }
   ],
   "source": [
    "trainer.network.params = trainer.max_params\n",
    "trainer.network.init_layer()\n",
    "trainer.accuracy(x_test,t_test)"
   ]
  },
  {
   "cell_type": "code",
   "execution_count": 8,
   "metadata": {},
   "outputs": [],
   "source": [
    "# trainer.network.params = temparams\n",
    "# trainer.network.init_layer()\n",
    "# trainer.accuracy(x_test,t_test)"
   ]
  },
  {
   "cell_type": "code",
   "execution_count": 22,
   "metadata": {},
   "outputs": [
    {
     "name": "stdout",
     "output_type": "stream",
     "text": [
      "Network params Saved \n"
     ]
    }
   ],
   "source": [
    "network.save_params(args['sf'])\n",
    "print(\"Network params Saved \")"
   ]
  },
  {
   "cell_type": "code",
   "execution_count": 10,
   "metadata": {},
   "outputs": [
    {
     "data": {
      "image/png": "[encoded data removed]",
      "text/plain": [
       "<Figure size 432x288 with 1 Axes>"
      ]
     },
     "metadata": {
      "needs_background": "light"
     },
     "output_type": "display_data"
    },
    {
     "data": {
      "text/plain": [
       "201"
      ]
     },
     "execution_count": 10,
     "metadata": {},
     "output_type": "execute_result"
    }
   ],
   "source": [
    "x = np.arange(len(trainer.train_acc_list))\n",
    "plt.plot(x, trainer.train_acc_list, label='train accuracy')\n",
    "plt.plot(x, trainer.test_acc_list, label='test accuracy')\n",
    "plt.xlabel(\"epochs\")\n",
    "plt.ylabel(\"accuracy\")\n",
    "plt.ylim(0, 1.1)\n",
    "plt.legend(loc='lower right')\n",
    "plt.show()\n",
    "\n",
    "len(trainer.train_acc_list)"
   ]
  },
  {
   "cell_type": "code",
   "execution_count": 47,
   "metadata": {},
   "outputs": [
    {
     "data": {
      "image/png": "[encoded data removed]",
      "text/plain": [
       "<Figure size 432x288 with 1 Axes>"
      ]
     },
     "metadata": {
      "needs_background": "light"
     },
     "output_type": "display_data"
    },
    {
     "data": {
      "text/plain": [
       "6201"
      ]
     },
     "execution_count": 47,
     "metadata": {},
     "output_type": "execute_result"
    }
   ],
   "source": [
    "x = np.arange(len(trainer.train_loss_list))\n",
    "plt.plot(x, trainer.train_loss_list, label='train loss')\n",
    "plt.xlabel(\"steps\")\n",
    "plt.ylabel(\"loss\")\n",
    "plt.ylim(0, max(trainer.train_loss_list) + 0.2)\n",
    "plt.legend(loc='lower right')\n",
    "plt.show()\n",
    "\n",
    "len(trainer.train_loss_list)"
   ]
  },
  {
   "cell_type": "code",
   "execution_count": null,
   "metadata": {},
   "outputs": [],
   "source": []
  },
  {
   "cell_type": "code",
   "execution_count": null,
   "metadata": {},
   "outputs": [],
   "source": []
  }
 ],
 "metadata": {
  "kernelspec": {
   "display_name": "tensorflow2.0",
   "language": "python",
   "name": "tensorflow2.0"
  },
  "language_info": {
   "codemirror_mode": {
    "name": "ipython",
    "version": 3
   },
   "file_extension": ".py",
   "mimetype": "text/x-python",
   "name": "python",
   "nbconvert_exporter": "python",
   "pygments_lexer": "ipython3",
   "version": "3.6.9"
  }
 },
 "nbformat": 4,
 "nbformat_minor": 2
}
