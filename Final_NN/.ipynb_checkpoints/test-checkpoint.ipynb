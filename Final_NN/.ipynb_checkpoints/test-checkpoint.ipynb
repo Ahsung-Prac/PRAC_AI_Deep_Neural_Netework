{
 "cells": [
  {
   "cell_type": "code",
   "execution_count": 149,
   "metadata": {},
   "outputs": [],
   "source": [
    "# coding: utf-8\n",
    "import sys, os\n",
    "import argparse\n",
    "import time\n",
    "import numpy as np\n",
    "sys.path.append(os.pardir)\n",
    "\n",
    "from AReM import *\n",
    "from model import *\n",
    "\n",
    "\n",
    "class Tester:\n",
    "    \"\"\"\n",
    "    test 해주는 클래스. 수정불가\n",
    "    ----------\n",
    "    network : 네트워크\n",
    "    x_test : 발리데이션 데이터\n",
    "    t_test : 발리데이션 데이터에 대한 라벨\n",
    "    mini_batch_size : 미니배치 사이즈\n",
    "    verbose : 출력여부\n",
    "\n",
    "    ----------\n",
    "    \"\"\"\n",
    "    def __init__(self, network, x_test, t_test, mini_batch_size=100, verbose=True):\n",
    "        self.network = network\n",
    "        self.x_test = x_test\n",
    "        self.t_test = t_test\n",
    "        self.batch_size = int(mini_batch_size)\n",
    "        self.verbose = verbose\n",
    "        self.train_size = x_test.shape[0]\n",
    "\n",
    "    def accuracy(self, x, t):\n",
    "        \"\"\"\n",
    "        수정불가\n",
    "        \"\"\"\n",
    "        if t.ndim != 1: t = np.argmax(t, axis=1)\n",
    "\n",
    "        acc = 0.0\n",
    "        start_time = time.time()\n",
    "\n",
    "#         for i in range(int(x.shape[0] / self.batch_size)):\n",
    "#             tx = x[i * self.batch_size:(i + 1) * self.batch_size]\n",
    "#             tt = t[i * self.batch_size:(i + 1) * self.batch_size]\n",
    "\n",
    "#             y = self.network.predict(tx)\n",
    "#             y = np.argmax(y, axis=1)\n",
    "#             acc += np.sum(y == tt)\n",
    "        y = self.network.predict(x)\n",
    "        y = np.argmax(y, axis=1)\n",
    "        acc += np.sum(y == t)\n",
    "\n",
    "\n",
    "        inference_time = (time.time()-start_time)/x.shape[0]\n",
    "\n",
    "        return acc / x.shape[0], inference_time"
   ]
  },
  {
   "cell_type": "code",
   "execution_count": 150,
   "metadata": {},
   "outputs": [],
   "source": [
    "(_, _), (x_test, t_test) = load_AReM(one_hot_label=False)\n"
   ]
  },
  {
   "cell_type": "code",
   "execution_count": 153,
   "metadata": {},
   "outputs": [],
   "source": [
    "\n",
    "network = Model()\n",
    "tester = Tester(network, x_test, t_test)\n",
    "\n",
    "network.load_params(\"./p78.6[100,50].pkl\")"
   ]
  },
  {
   "cell_type": "code",
   "execution_count": 154,
   "metadata": {},
   "outputs": [
    {
     "name": "stdout",
     "output_type": "stream",
     "text": [
      "=============== Final Test Accuracy ===============\n",
      "test acc:0.7860136510597533, inference_time:3.071120221833814e-06\n"
     ]
    }
   ],
   "source": [
    "test_acc, inference_time = tester.accuracy(x_test, t_test)\n",
    "\n",
    "print(\"=============== Final Test Accuracy ===============\")\n",
    "print(\"test acc:\" + str(test_acc) + \", inference_time:\" + str(inference_time))"
   ]
  },
  {
   "cell_type": "code",
   "execution_count": null,
   "metadata": {},
   "outputs": [],
   "source": []
  }
 ],
 "metadata": {
  "kernelspec": {
   "display_name": "tensorflow2.0",
   "language": "python",
   "name": "tensorflow2.0"
  },
  "language_info": {
   "codemirror_mode": {
    "name": "ipython",
    "version": 3
   },
   "file_extension": ".py",
   "mimetype": "text/x-python",
   "name": "python",
   "nbconvert_exporter": "python",
   "pygments_lexer": "ipython3",
   "version": "3.6.9"
  }
 },
 "nbformat": 4,
 "nbformat_minor": 2
}
