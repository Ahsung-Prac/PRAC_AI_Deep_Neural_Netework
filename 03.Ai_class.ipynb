{
 "cells": [
  {
   "cell_type": "code",
   "execution_count": 1,
   "metadata": {},
   "outputs": [
    {
     "name": "stdout",
     "output_type": "stream",
     "text": [
      "gradiant: [6. 8.]\n",
      "기울기 경사하강: [0.39785867 0.53047822]\n"
     ]
    }
   ],
   "source": [
    "# B511209 최아성\n",
    "\n",
    "import numpy as np\n",
    "\n",
    "def cross_entropy_error(y, t):\n",
    "    epsilon = 1e-7\n",
    "\n",
    "    if y.ndim == 1:\n",
    "        y = y.reshape(1, y.size)\n",
    "        t = t.reshape(1, t.size)\n",
    "\n",
    "    batch_size = y.shape[0]\n",
    "\n",
    "    cee = -np.sum(t * np.log(y + epsilon)) / batch_size\n",
    "    return cee\n",
    "\n",
    "\n",
    "def cross_entropy_error_label(y, t):\n",
    "    epsilon = 1e-7\n",
    "\n",
    "    if y.ndim == 1:\n",
    "        y = y.reshape(1, y.size)\n",
    "        t = t.reshape(1, t.size)\n",
    "\n",
    "    batch_size = y.shape[0]\n",
    "\n",
    "    cee = -np.sum(np.log(y[np.arange(batch_size), t] + epsilon)) / batch_size\n",
    "    return cee\n",
    "\n",
    "\n",
    "def f1(x):\n",
    "    return 0.01*(x**2)+0.1*x\n",
    "\n",
    "\n",
    "def f2(x):\n",
    "    if x.ndim == 1:\n",
    "        return np.sum(x**2)\n",
    "    else:\n",
    "        return np.sum(x**2, axis=1)\n",
    "    \n",
    "    \n",
    "def numerical_difference(f,x):\n",
    "    h = 1e-4\n",
    "    return (f(x+h) - f(x-h)) / (2*h)\n",
    "\n",
    "def numerical_gradient(f, x):\n",
    "    h = 1e-4 \n",
    "    grad = np.zeros_like(x) \n",
    "    \n",
    "    for i in range(x.size):\n",
    "        xi = x[i]\n",
    "        \n",
    "        #x[i]를 약간 커졌을 때 결과값\n",
    "        x[i] = xi + h\n",
    "        fx1 = f(x)\n",
    "        \n",
    "        #x[i]를 약간 작아졌을 때 결과값\n",
    "        x[i] = xi - h \n",
    "        fx2 = f(x) \n",
    "        \n",
    "        #차이가 미분값.\n",
    "        grad[i] = (fx1 - fx2) / (2*h)\n",
    "        \n",
    "        x[i] = xi #원상복귀     \n",
    "    return grad\n",
    "\n",
    "def gradient_descent(f,init_x,lr=0.1,epoch = 100):\n",
    "    x = init_x\n",
    "    for i in range(epoch):\n",
    "        x -=  lr * numerical_gradient(f,x)\n",
    "    return x\n",
    "\n",
    "x = np.array([3,4]).astype(np.float)\n",
    "print(\"gradiant:\",numerical_gradient(f2,x))\n",
    "\n",
    "print(\"기울기 경사하강:\",gradient_descent(f2,x,lr = 0.01 , epoch = 100))"
   ]
  },
  {
   "cell_type": "code",
   "execution_count": null,
   "metadata": {},
   "outputs": [],
   "source": []
  }
 ],
 "metadata": {
  "kernelspec": {
   "display_name": "tensorflow2.0",
   "language": "python",
   "name": "tensorflow2.0"
  },
  "language_info": {
   "codemirror_mode": {
    "name": "ipython",
    "version": 3
   },
   "file_extension": ".py",
   "mimetype": "text/x-python",
   "name": "python",
   "nbconvert_exporter": "python",
   "pygments_lexer": "ipython3",
   "version": "3.6.9"
  }
 },
 "nbformat": 4,
 "nbformat_minor": 2
}
