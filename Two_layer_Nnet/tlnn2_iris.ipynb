{
 "cells": [
  {
   "cell_type": "code",
   "execution_count": 1,
   "metadata": {},
   "outputs": [],
   "source": [
    "import matplotlib.pyplot as plt\n",
    "import numpy as np\n",
    "import sys, os\n",
    "sys.path.append(os.pardir)\n",
    "sys.path.append(\"../../\")\n",
    "from sklearn.datasets import load_iris\n",
    "from ai_func import *\n",
    "from tlnn2 import TwoLayerNeuralNetwork2"
   ]
  },
  {
   "cell_type": "code",
   "execution_count": 2,
   "metadata": {},
   "outputs": [
    {
     "name": "stdout",
     "output_type": "stream",
     "text": [
      "feature 수:  4\n",
      "class : ['setosa' 'versicolor' 'virginica']\n"
     ]
    }
   ],
   "source": [
    "iris = load_iris()\n",
    "X = iris.data\n",
    "Y = iris.target\n",
    "Y = one_hot(Y)\n",
    "y_name = iris.target_names\n",
    "print(\"feature 수: \",X.shape[1])\n",
    "print(\"class :\",y_name)"
   ]
  },
  {
   "cell_type": "code",
   "execution_count": 3,
   "metadata": {},
   "outputs": [],
   "source": [
    "\"\"\"\n",
    "Train data, Test data Setting\n",
    "\"\"\"\n",
    "\n",
    "# 인덱스 suffle\n",
    "suffle_mask = np.random.choice(X.shape[0],X.shape[0],replace=False)\n",
    "\n",
    "# data 80퍼센트는 Train용, 20퍼센트는 Test용\n",
    "bound = int(0.8 * X.shape[0])\n",
    "\n",
    "x_train = X[suffle_mask[:bound]]\n",
    "x_test = X[suffle_mask[bound:]]\n",
    "y_train = Y[suffle_mask[:bound]]\n",
    "y_test = Y[suffle_mask[bound:]]"
   ]
  },
  {
   "cell_type": "code",
   "execution_count": 4,
   "metadata": {},
   "outputs": [],
   "source": [
    "\"\"\"\n",
    "init_model\n",
    "\"\"\"\n",
    "\n",
    "input_size = X.shape[1]\n",
    "hidden_size = 10\n",
    "output_size = Y.shape[1]\n",
    "\n",
    "tn2 = TwoLayerNeuralNetwork2(input_size,hidden_size,output_size)"
   ]
  },
  {
   "cell_type": "code",
   "execution_count": 6,
   "metadata": {},
   "outputs": [
    {
     "name": "stdout",
     "output_type": "stream",
     "text": [
      "Before Learning:\n",
      "| Train_Accuracy: 0.275 | LOSS: 1.7475780663782419\n",
      "1\n",
      "| Train_Accuracy: 0.35833333333333334 | LOSS: 1.4126818148573235\n",
      "| Test_Accuracy: 0.23333333333333334 | LOSS: 1.5484926065789524\n",
      "2\n",
      "| Train_Accuracy: 0.35833333333333334 | LOSS: 1.270569877137141\n",
      "| Test_Accuracy: 0.23333333333333334 | LOSS: 1.3737217058923206\n",
      "3\n",
      "| Train_Accuracy: 0.35833333333333334 | LOSS: 1.1814289534597455\n",
      "| Test_Accuracy: 0.23333333333333334 | LOSS: 1.2604918706543822\n",
      "4\n",
      "| Train_Accuracy: 0.35833333333333334 | LOSS: 1.1226509781710357\n",
      "| Test_Accuracy: 0.23333333333333334 | LOSS: 1.1822214931307742\n",
      "5\n",
      "| Train_Accuracy: 0.35833333333333334 | LOSS: 1.0839062187457296\n",
      "| Test_Accuracy: 0.23333333333333334 | LOSS: 1.1283195987570087\n",
      "6\n",
      "| Train_Accuracy: 0.35833333333333334 | LOSS: 1.0585544906696485\n",
      "| Test_Accuracy: 0.23333333333333334 | LOSS: 1.0915514795725647\n",
      "7\n",
      "| Train_Accuracy: 0.35833333333333334 | LOSS: 1.040741993801233\n",
      "| Test_Accuracy: 0.23333333333333334 | LOSS: 1.0647454859617766\n",
      "8\n",
      "| Train_Accuracy: 0.35833333333333334 | LOSS: 1.0271441365816059\n",
      "| Test_Accuracy: 0.23333333333333334 | LOSS: 1.0438853854553973\n",
      "9\n",
      "| Train_Accuracy: 0.375 | LOSS: 1.0151827355412257\n",
      "| Test_Accuracy: 0.23333333333333334 | LOSS: 1.0256880241709607\n",
      "10\n",
      "| Train_Accuracy: 0.5666666666666667 | LOSS: 1.0039632896896051\n",
      "| Test_Accuracy: 0.43333333333333335 | LOSS: 1.0103222747017457\n",
      "11\n",
      "| Train_Accuracy: 0.6416666666666667 | LOSS: 0.9929053423692344\n",
      "| Test_Accuracy: 0.5333333333333333 | LOSS: 0.9957299257468086\n",
      "12\n",
      "| Train_Accuracy: 0.675 | LOSS: 0.9815154405610094\n",
      "| Test_Accuracy: 0.6 | LOSS: 0.9824479197894855\n",
      "13\n",
      "| Train_Accuracy: 0.7583333333333333 | LOSS: 0.9695120437004973\n",
      "| Test_Accuracy: 0.7666666666666667 | LOSS: 0.9674321098785027\n",
      "14\n",
      "| Train_Accuracy: 0.8833333333333333 | LOSS: 0.9569634715283288\n",
      "| Test_Accuracy: 0.9666666666666667 | LOSS: 0.9523872881684857\n",
      "15\n",
      "| Train_Accuracy: 0.9416666666666667 | LOSS: 0.9437709246879352\n",
      "| Test_Accuracy: 1.0 | LOSS: 0.9350845534895652\n",
      "16\n",
      "| Train_Accuracy: 0.9416666666666667 | LOSS: 0.9301669646090492\n",
      "| Test_Accuracy: 1.0 | LOSS: 0.9183293099734094\n",
      "17\n",
      "| Train_Accuracy: 0.95 | LOSS: 0.9160822403554673\n",
      "| Test_Accuracy: 1.0 | LOSS: 0.8996416402697182\n",
      "18\n",
      "| Train_Accuracy: 0.95 | LOSS: 0.9017940784929339\n",
      "| Test_Accuracy: 1.0 | LOSS: 0.8821188931419356\n",
      "19\n",
      "| Train_Accuracy: 0.9583333333333334 | LOSS: 0.8873408529389976\n",
      "| Test_Accuracy: 1.0 | LOSS: 0.8640652762938184\n",
      "20\n",
      "| Train_Accuracy: 0.95 | LOSS: 0.8726873778550803\n",
      "| Test_Accuracy: 1.0 | LOSS: 0.8466483949237106\n",
      "21\n",
      "| Train_Accuracy: 0.9416666666666667 | LOSS: 0.8580977992974562\n",
      "| Test_Accuracy: 1.0 | LOSS: 0.8285165466602658\n",
      "22\n",
      "| Train_Accuracy: 0.95 | LOSS: 0.8434706784909276\n",
      "| Test_Accuracy: 1.0 | LOSS: 0.8113236271367092\n",
      "23\n",
      "| Train_Accuracy: 0.9333333333333333 | LOSS: 0.8290515908308561\n",
      "| Test_Accuracy: 1.0 | LOSS: 0.7940688790622565\n",
      "24\n",
      "| Train_Accuracy: 0.9333333333333333 | LOSS: 0.8147732847044914\n",
      "| Test_Accuracy: 1.0 | LOSS: 0.7774372361248064\n",
      "25\n",
      "| Train_Accuracy: 0.95 | LOSS: 0.8007917013098003\n",
      "| Test_Accuracy: 1.0 | LOSS: 0.7621624326744892\n",
      "26\n",
      "| Train_Accuracy: 0.9333333333333333 | LOSS: 0.7872704053758189\n",
      "| Test_Accuracy: 1.0 | LOSS: 0.7478848445825831\n",
      "27\n",
      "| Train_Accuracy: 0.9333333333333333 | LOSS: 0.7738051257202895\n",
      "| Test_Accuracy: 1.0 | LOSS: 0.7318802534444379\n",
      "28\n",
      "| Train_Accuracy: 0.9166666666666666 | LOSS: 0.7610309565380106\n",
      "| Test_Accuracy: 1.0 | LOSS: 0.7173465877906113\n",
      "29\n",
      "| Train_Accuracy: 0.9333333333333333 | LOSS: 0.7484812578257715\n",
      "| Test_Accuracy: 1.0 | LOSS: 0.7038740391850333\n",
      "30\n",
      "| Train_Accuracy: 0.9333333333333333 | LOSS: 0.7365531732533687\n",
      "| Test_Accuracy: 1.0 | LOSS: 0.6904459495617111\n",
      "31\n",
      "| Train_Accuracy: 0.9166666666666666 | LOSS: 0.725197935029923\n",
      "| Test_Accuracy: 1.0 | LOSS: 0.6790917087906913\n",
      "32\n",
      "| Train_Accuracy: 0.925 | LOSS: 0.7141823663117975\n",
      "| Test_Accuracy: 1.0 | LOSS: 0.6675395353751845\n",
      "33\n",
      "| Train_Accuracy: 0.9083333333333333 | LOSS: 0.703975176576711\n",
      "| Test_Accuracy: 0.9666666666666667 | LOSS: 0.6555745489179946\n",
      "34\n",
      "| Train_Accuracy: 0.9166666666666666 | LOSS: 0.6937033482875093\n",
      "| Test_Accuracy: 1.0 | LOSS: 0.6446594995453098\n",
      "35\n",
      "| Train_Accuracy: 0.9666666666666667 | LOSS: 0.6840953186144773\n",
      "| Test_Accuracy: 1.0 | LOSS: 0.6362092079482551\n",
      "36\n",
      "| Train_Accuracy: 0.95 | LOSS: 0.6749485233777305\n",
      "| Test_Accuracy: 1.0 | LOSS: 0.6261948320681782\n",
      "37\n",
      "| Train_Accuracy: 0.9583333333333334 | LOSS: 0.666254287148575\n",
      "| Test_Accuracy: 1.0 | LOSS: 0.6174470532076198\n",
      "38\n",
      "| Train_Accuracy: 0.9666666666666667 | LOSS: 0.6579649855087979\n",
      "| Test_Accuracy: 1.0 | LOSS: 0.609980074427869\n",
      "39\n",
      "| Train_Accuracy: 0.9666666666666667 | LOSS: 0.6500070804291334\n",
      "| Test_Accuracy: 1.0 | LOSS: 0.6008319954543092\n",
      "40\n",
      "| Train_Accuracy: 0.9666666666666667 | LOSS: 0.642421468715891\n",
      "| Test_Accuracy: 1.0 | LOSS: 0.5936847435503492\n",
      "41\n",
      "| Train_Accuracy: 0.9666666666666667 | LOSS: 0.6352136206074726\n",
      "| Test_Accuracy: 1.0 | LOSS: 0.5877967510763521\n",
      "42\n",
      "| Train_Accuracy: 0.975 | LOSS: 0.6281933150942254\n",
      "| Test_Accuracy: 1.0 | LOSS: 0.5799067136394715\n",
      "43\n",
      "| Train_Accuracy: 0.9666666666666667 | LOSS: 0.621495545833978\n",
      "| Test_Accuracy: 1.0 | LOSS: 0.5726861831611759\n",
      "44\n",
      "| Train_Accuracy: 0.9666666666666667 | LOSS: 0.6150451162983634\n",
      "| Test_Accuracy: 1.0 | LOSS: 0.5651629020255989\n",
      "45\n",
      "| Train_Accuracy: 0.9666666666666667 | LOSS: 0.6088786301752513\n",
      "| Test_Accuracy: 1.0 | LOSS: 0.5590906432927717\n",
      "46\n",
      "| Train_Accuracy: 0.95 | LOSS: 0.6029609999852517\n",
      "| Test_Accuracy: 1.0 | LOSS: 0.5520085857114222\n",
      "47\n",
      "| Train_Accuracy: 0.9416666666666667 | LOSS: 0.5973060836346298\n",
      "| Test_Accuracy: 1.0 | LOSS: 0.5454533476971274\n",
      "48\n",
      "| Train_Accuracy: 0.95 | LOSS: 0.5917769883883175\n",
      "| Test_Accuracy: 1.0 | LOSS: 0.5410872749479005\n",
      "49\n",
      "| Train_Accuracy: 0.9666666666666667 | LOSS: 0.586471028644756\n",
      "| Test_Accuracy: 1.0 | LOSS: 0.5371823816530481\n",
      "50\n",
      "| Train_Accuracy: 0.9666666666666667 | LOSS: 0.5814090352712513\n",
      "| Test_Accuracy: 1.0 | LOSS: 0.5329006496663878\n"
     ]
    }
   ],
   "source": [
    "\"\"\"\n",
    "learn\n",
    "\"\"\"\n",
    "epochs = 50\n",
    "batch_size = 20\n",
    "lr = 0.03\n",
    "\n",
    "tn2.init_params()\n",
    "tn2.learn(x_train,y_train,test_X = x_test,test_Y = y_test, epochs = epochs, batch_size = batch_size,lr= lr,hist=True)"
   ]
  },
  {
   "cell_type": "code",
   "execution_count": 7,
   "metadata": {},
   "outputs": [
    {
     "name": "stdout",
     "output_type": "stream",
     "text": [
      "-----Test case 정확도-----\n",
      "target : 1.0\n"
     ]
    }
   ],
   "source": [
    "# Test Case 정확도\n",
    "print(\"-----Test case 정확도-----\")\n",
    "print(\"target :\",tn2.accuracy(x_test,y_test))"
   ]
  },
  {
   "cell_type": "code",
   "execution_count": 8,
   "metadata": {},
   "outputs": [
    {
     "name": "stdout",
     "output_type": "stream",
     "text": [
      "hidden size:  10\n",
      "epochs:  50\n",
      "batch size:  20\n"
     ]
    },
    {
     "data": {
      "image/png": "[encoded data removed]",
      "text/plain": [
       "<Figure size 432x288 with 1 Axes>"
      ]
     },
     "metadata": {
      "needs_background": "light"
     },
     "output_type": "display_data"
    }
   ],
   "source": [
    "print(\"hidden size: \",hidden_size)\n",
    "print(\"epochs: \",epochs)\n",
    "print(\"batch size: \",batch_size)\n",
    "x = np.arange(len(tn2.train_accuracylist))\n",
    "plt.plot(x, tn2.train_accuracylist, label='train accuracy')\n",
    "plt.plot(x, tn2.test_accuracylist, label='train accuracy')\n",
    "plt.xlabel(\"epochs\")\n",
    "plt.ylabel(\"accuracy\")\n",
    "plt.ylim(0, 1.1)\n",
    "plt.legend(loc='lower right')\n",
    "plt.show()"
   ]
  },
  {
   "cell_type": "code",
   "execution_count": 9,
   "metadata": {},
   "outputs": [
    {
     "name": "stdout",
     "output_type": "stream",
     "text": [
      "hidden size:  10\n",
      "epochs:  50\n",
      "batch size:  20\n"
     ]
    },
    {
     "data": {
      "image/png": "[encoded data removed]",
      "text/plain": [
       "<Figure size 432x288 with 1 Axes>"
      ]
     },
     "metadata": {
      "needs_background": "light"
     },
     "output_type": "display_data"
    }
   ],
   "source": [
    "print(\"hidden size: \",hidden_size)\n",
    "print(\"epochs: \",epochs)\n",
    "print(\"batch size: \",batch_size)\n",
    "\n",
    "maxloss = max(tn2.train_losslist)\n",
    "x = np.arange(len(tn2.train_losslist))\n",
    "plt.plot(x, tn2.train_losslist, label='train loss' ,linestyle='--')\n",
    "plt.plot(x, tn2.test_losslist, label='test loss' ,linestyle='--')\n",
    "plt.xlabel(\"epochs\")\n",
    "plt.ylabel(\"accuracy\")\n",
    "plt.ylim(0, maxloss)\n",
    "plt.legend(loc='lower right')\n",
    "plt.show()"
   ]
  },
  {
   "cell_type": "code",
   "execution_count": null,
   "metadata": {},
   "outputs": [],
   "source": []
  }
 ],
 "metadata": {
  "kernelspec": {
   "display_name": "tensorflow2.0",
   "language": "python",
   "name": "tensorflow2.0"
  },
  "language_info": {
   "codemirror_mode": {
    "name": "ipython",
    "version": 3
   },
   "file_extension": ".py",
   "mimetype": "text/x-python",
   "name": "python",
   "nbconvert_exporter": "python",
   "pygments_lexer": "ipython3",
   "version": "3.6.9"
  }
 },
 "nbformat": 4,
 "nbformat_minor": 2
}
